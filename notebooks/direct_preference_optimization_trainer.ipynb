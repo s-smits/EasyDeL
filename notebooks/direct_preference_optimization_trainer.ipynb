{
 "cells": [
  {
   "cell_type": "markdown",
   "metadata": {},
   "source": [
    "# EasyDeL Tutorial\n",
    "\n",
    "This tutorial demonstrates the essential steps for using the `EasyDeL` library with JAX and Hugging Face for training a causal language model. You'll learn how to set up your model, tokenizer, dataset, and training configuration. Remember, this is just the beginning—there are many more options you can tweak, so check out the documentation to unlock the full potential of `EasyDeL`!\n",
    "### 1. Importing Required Libraries"
   ]
  },
  {
   "cell_type": "code",
   "execution_count": null,
   "metadata": {},
   "outputs": [],
   "source": [
    "import easydel as ed\n",
    "import jax\n",
    "from transformers import AutoTokenizer\n",
    "from jax import numpy as jnp, sharding, lax\n",
    "from huggingface_hub import HfApi\n",
    "import datasets\n",
    "\n",
    "PartitionSpec, api = sharding.PartitionSpec, HfApi() "
   ]
  },
  {
   "cell_type": "markdown",
   "metadata": {},
   "source": [
    "In this section, we import the necessary libraries, including `EasyDeL`, JAX, and transformers for model and tokenizer management. `HfApi` is used to interact with Hugging Face's model hub, while `datasets` provides a way to handle training data. There are many additional modules and functions that can be leveraged for more customized workflows—check the documentation for further details!\n",
    "\n",
    "----\n",
    "\n",
    "### 2. Defining Configuration Parameters"
   ]
  },
  {
   "cell_type": "code",
   "execution_count": null,
   "metadata": {},
   "outputs": [],
   "source": [
    "sharding_axis_dims = (1, -1, 1, 1, 1)\n",
    "sharding_axis_names = (\"dp\", \"fsdp\", \"tp\", \"sp\")\n",
    "max_length = 2048\n",
    "num_devices = len(jax.devices())\n",
    "input_shape = (num_devices, max_length)\n",
    "pretrained_model_name_or_path = \"google/gemma-2-2b-it\"\n",
    "pretrained_model_name_or_path_tokenizer = pretrained_model_name_or_path\n",
    "new_repo_id = \"EasyDeL/dpo-gemma-2-2b-it\"\n",
    "dtype = jnp.bfloat16\n",
    "partition_axis = ed.PartitionAxis()"
   ]
  },
  {
   "cell_type": "markdown",
   "metadata": {},
   "source": [
    "Here, we define various configuration parameters for model training. This includes the dimensions for sharding across devices, the maximum sequence length, and the model and tokenizer identifiers. The input shape and data types for model parameters are also set. These configurations provide flexibility in adjusting the model's behavior to better suit your hardware and data needs. For more advanced options, refer to the documentation.\n",
    "\n",
    "----\n",
    "\n",
    "### 3. Loading the Pretrained Model"
   ]
  },
  {
   "cell_type": "code",
   "execution_count": null,
   "metadata": {},
   "outputs": [],
   "source": [
    "model = ed.AutoEasyDeLModelForCausalLM.from_pretrained(\n",
    "\tpretrained_model_name_or_path,\n",
    "\tinput_shape=input_shape,\n",
    "\tdevice_map=\"auto\",\n",
    "\t# device_map help to load first pytorch model in case that you are facing heavy loads!, we don't need that\n",
    "\t# if your loading from a easystate, or an easydel model which was saved using `ed_model.save_pretraiend``.\n",
    "\tauto_shard_model=True,\n",
    "\tsharding_axis_dims=sharding_axis_dims,\n",
    "\tsharding_axis_names=sharding_axis_names,\n",
    "\tconfig_kwargs=ed.EasyDeLBaseConfigDict(\n",
    "\t\tuse_scan_mlp=False,\n",
    "\t\tpartition_axis=partition_axis,\n",
    "\t\tattn_dtype=jnp.float32,\n",
    "\t\tfreq_max_position_embeddings=max_length,\n",
    "\t\tmask_max_position_embeddings=max_length,\n",
    "\t\tattn_mechanism=ed.AttentionMechanisms.SDPA,  \n",
    "\t\t# feel free to change attention to whatever mechanism you want (e.g FLASH_ATTN2, SPLASH, ...)\n",
    "\t\t# if your using kaggle TPUs, i highly suggest to don't use SDPA attention and switch to VANILLA.\n",
    "\t),\n",
    "\tpartition_axis=partition_axis,\n",
    "\tparam_dtype=dtype,\n",
    "\tdtype=dtype,\n",
    "\tprecision=lax.Precision(\"fastest\"),\n",
    ")"
   ]
  },
  {
   "cell_type": "markdown",
   "metadata": {},
   "source": [
    "This section shows how to load a pretrained model with `AutoEasyDeLModelForCausalLM` and customize various parameters like device mapping and precision. The `config_kwargs` allows fine-tuning of the attention mechanism and MLP settings. Feel free to explore other configuration options to fit your model needs better—see the documentation for more choices!\n",
    "\n",
    "----\n",
    "\n",
    "### 4. Setting Up the Tokenizer"
   ]
  },
  {
   "cell_type": "code",
   "execution_count": null,
   "metadata": {},
   "outputs": [],
   "source": [
    "tokenizer = AutoTokenizer.from_pretrained(\n",
    "\tpretrained_model_name_or_path_tokenizer,\n",
    "\ttrust_remote_code=True,\n",
    ")\n",
    "tokenizer.pad_token = tokenizer.eos_token if tokenizer.pad_token is None else tokenizer.pad_token\n",
    "tokenizer.padding_side = \"right\""
   ]
  },
  {
   "cell_type": "markdown",
   "metadata": {},
   "source": [
    "We initialize a tokenizer using the same model identifier, setting the padding token and adjusting padding alignment. Tokenization is crucial for preparing text inputs for training. `EasyDeL` supports other tokenization options and configurations—refer to the documentation to explore them.\n",
    "\n",
    "----\n",
    "\n",
    "### 5. Preparing the Dataset"
   ]
  },
  {
   "cell_type": "code",
   "execution_count": null,
   "metadata": {},
   "outputs": [],
   "source": [
    "train_dataset = (\n",
    "\tdatasets.concatenate_datasets(\n",
    "\t\t[\n",
    "\t\t\tdatasets.load_dataset(\n",
    "\t\t\t\t\"argilla/ultrafeedback-binarized-preferences\",\n",
    "\t\t\t\tsplit=\"train\",\n",
    "\t\t\t),\n",
    "\t\t\t# show case of loading multi-datasets.\n",
    "\t\t]\n",
    "\t)\n",
    "\t.shuffle()\n",
    "\t.shuffle()\n",
    ")\n",
    "# DPOTrainer needs data to be formated like this (prompt, chosen, rejected).\n",
    "train_dataset = train_dataset.rename_column(\"chosen_response\", \"chosen\")\n",
    "train_dataset = train_dataset.rename_column(\"rejected_response\", \"rejected\")\n",
    "train_dataset = train_dataset.rename_column(\"instruction\", \"prompt\")"
   ]
  },
  {
   "cell_type": "markdown",
   "metadata": {},
   "source": [
    "Here, we load and preprocess a training dataset, using the datasets library to concatenate and shuffle it. The columns are renamed to match the input fields required for training. You can modify this to use different datasets, perform more advanced preprocessing, or integrate other data sources. Check the docs for more options!\n",
    "\n",
    "----\n",
    "\n",
    "### 6. Configuring Training Parameters"
   ]
  },
  {
   "cell_type": "code",
   "execution_count": null,
   "metadata": {},
   "outputs": [],
   "source": [
    "training_arguments = ed.DPOConfig(\n",
    "\t# DPO Configs\n",
    "\tloss_type=\"hinge\",\n",
    "\t\n",
    "\tbeta=0.1,\n",
    "\t\n",
    "\tlabel_smoothing=0.0,\n",
    "\ttruncation_mode=\"keep_end\",\n",
    "\t\n",
    "\tmax_length=max_length,\n",
    "\tmax_prompt_length=max_length - (max_length // 4),\n",
    "\tmax_completion_length=max_length - (max_length // 4),\n",
    "\n",
    "\t# Other Configs.\n",
    "\tnum_train_epochs=1,\n",
    "\tlearning_rate=1.5e-5,\n",
    "\tlearning_rate_end=9e-6,\n",
    "\twarmup_steps=100,\n",
    "\t\n",
    "\toptimizer=ed.EasyDeLOptimizers.ADAMW,\n",
    "\tscheduler=ed.EasyDeLSchedulers.COSINE,\n",
    "\t\n",
    "\tweight_decay=0.02,\n",
    "\ttotal_batch_size=8,\n",
    "\n",
    "\tmax_sequence_length=max_length,\n",
    "\tgradient_checkpointing=ed.EasyDeLGradientCheckPointers.NONE, # change this if u go OOM\n",
    "\tsharding_array=sharding_axis_dims,\n",
    "\tgradient_accumulation_steps=1,\n",
    "\tinit_input_shape=input_shape,\n",
    "\tdtype=dtype,\n",
    "\tparam_dtype=dtype,\n",
    "\tmodel_name=new_repo_id.split(\"/\")[-1].split(\"-v0\")[0],\n",
    "\ttraining_time_limit=\"7H\",\n",
    "\ttrack_memory=True,\n",
    ")"
   ]
  },
  {
   "cell_type": "markdown",
   "metadata": {},
   "source": [
    "We configure the training process with `DPOConfig`, specifying settings like loss type, learning rate, and optimizer. This configuration allows users to fine-tune their training settings to achieve optimal results. Feel free to tweak these parameters as you explore different models and training strategies—there's more in the documentation to guide you!\n",
    "\n",
    "----\n",
    "\n",
    "### 7. Preparing Model State"
   ]
  },
  {
   "cell_type": "code",
   "execution_count": null,
   "metadata": {},
   "outputs": [],
   "source": [
    "model_state = model.to_easydel_state(params=params)"
   ]
  },
  {
   "cell_type": "markdown",
   "metadata": {},
   "source": [
    "This converts the model and its parameters into a format compatible with `EasyDeL` training workflows. It's a simple step but an important one before starting the training with dpo trainer. For further details on how model_state can be customized or extended, consult the documentation.\n",
    "\n",
    "----\n",
    "\n",
    "### 8. Initializing the Trainer"
   ]
  },
  {
   "cell_type": "code",
   "execution_count": null,
   "metadata": {},
   "outputs": [],
   "source": [
    "trainer = ed.DPOTrainer(\n",
    "\targuments=training_arguments,\n",
    "\tmodel_state=model_state,\n",
    "\tref_model_state=model_state,  # since we dont have a renfrence model for now, but you can use other models as reference.\n",
    "\ttokenizer=tokenizer,\n",
    "\ttrain_dataset=train_dataset,\n",
    ")"
   ]
  },
  {
   "cell_type": "markdown",
   "metadata": {},
   "source": [
    "We set up a `DPOTrainer` to handle the training process, including the model, tokenizer, and dataset. Using a reference model allows for comparative training, but in this example, we're using the same model state for simplicity. Many more configurations are possible, so explore the docs for deeper customization!\n",
    "\n",
    "----\n",
    "\n",
    "### 9. Training the Model"
   ]
  },
  {
   "cell_type": "code",
   "execution_count": null,
   "metadata": {},
   "outputs": [],
   "source": [
    "# Except long compilation time. like 7-8 min\n",
    "# since a lot of functions like loss functions model state and ref model state etc are being compiled this process\n",
    "# can take up to 46 min for larger models (Llama70B) and it depends a lot on a processor for example on GPUs it's a lot faster.\n",
    "\n",
    "output = trainer.train()"
   ]
  },
  {
   "cell_type": "markdown",
   "metadata": {},
   "source": [
    "Finally, we start the training process. The output includes metrics and results from the training run, which you can use to monitor progress. Remember, you can customize everything from the training loop to data augmentation. Refer to the documentation for advanced training options.\n",
    "\n",
    "----\n",
    "\n",
    "With these steps, you've set up and trained a model using EasyDeL! There's a lot more you can do—be sure to dive into the documentation to explore further options and tailor this workflow to your specific needs. Happy training!"
   ]
  }
 ],
 "metadata": {
  "kernelspec": {
   "display_name": "jax-env",
   "language": "python",
   "name": "python3"
  },
  "language_info": {
   "name": "python",
   "version": "3.10.12"
  }
 },
 "nbformat": 4,
 "nbformat_minor": 2
}
