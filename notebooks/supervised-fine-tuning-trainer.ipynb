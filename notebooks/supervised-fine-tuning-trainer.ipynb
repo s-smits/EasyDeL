{
	"cells": [
		{
			"cell_type": "markdown",
			"metadata": {},
			"source": [
				"# Supervised Fine-Tuning with SFTTrainer\n",
				"\n",
				"This tutorial guides you through the process of fine-tuning a model using the `SFTTrainer` class from the `EasyDeL` library. This setup allows you to customize training with ease, and it’s designed to handle various configurations for supervised fine-tuning (`SFT`). Remember, there are many more options and possibilities—explore the documentation to unlock the full potential of `EasyDeL`!\n",
				"\n",
				"#### 1. Importing Required Libraries"
			]
		},
		{
			"cell_type": "code",
			"execution_count": null,
			"metadata": {},
			"outputs": [],
			"source": [
				"import easydel as ed\n",
				"from easydel.utils.analyze_memory import SMPMemoryMonitor  # Optional for memory analysis\n",
				"import jax\n",
				"from transformers import AutoTokenizer\n",
				"from jax import numpy as jnp, sharding, lax, random as jrnd\n",
				"from huggingface_hub import HfApi\n",
				"import datasets\n",
				"from flax.core import FrozenDict\n",
				"\n",
				"PartitionSpec, api = sharding.PartitionSpec, HfApi() "
			]
		},
		{
			"cell_type": "markdown",
			"metadata": {},
			"source": [
				"\n",
				"In this section, we import the essential libraries needed for fine-tuning a language model. `EasyDeL` helps manage the model training, `jax` provides efficient numerical operations, and `transformers` is used for tokenizer management. `SMPMemoryMonitor` is optionally imported for monitoring memory usage, which can be particularly useful when working with large models. For more advanced usage and utilities, explore the documentation!\n",
				"\n",
				"--------------------------\n",
				"#### 2. Defining Configuration Parameters"
			]
		},
		{
			"cell_type": "code",
			"execution_count": null,
			"metadata": {},
			"outputs": [],
			"source": [
				"sharding_axis_dims = (1, -1, 1, 1, 1)\n",
				"max_length = 8192\n",
				"input_shape = (len(jax.devices()), max_length)\n",
				"pretrained_model_name_or_path = \"google/gemma-2-2b-it\"\n",
				"pretrained_model_name_or_path_tokenizer = pretrained_model_name_or_path\n",
				"new_repo_id = \"EasyDeL/sft-gemma-2-2b-it\"\n",
				"dtype = jnp.bfloat16"
			]
		},
		{
			"cell_type": "markdown",
			"metadata": {},
			"source": [
				"\n",
				"Here, we define the basic configuration for our training process, including the dimensions for sharding, maximum sequence length, and the input shape for the model. Adjusting these parameters allows you to tailor the model’s memory and computational efficiency to your setup. Remember, there are more options available in the documentation that can help you fine-tune your setup further!\n",
				"\n",
				"--------------------------\n",
				"#### 3. Loading the Pretrained Model"
			]
		},
		{
			"cell_type": "code",
			"execution_count": null,
			"metadata": {},
			"outputs": [],
			"source": [
				"model = ed.AutoEasyDeLModelForCausalLM.from_pretrained(\n",
				"\tpretrained_model_name_or_path,\n",
				"\tinput_shape=input_shape,\n",
				"\tauto_shard_model=True,\n",
				"\tsharding_axis_dims=sharding_axis_dims,\n",
				"\tconfig_kwargs=dict(\n",
				"\t\tuse_scan_mlp=False,\n",
				"\t\tattn_dtype=jnp.float32,\n",
				"\t\tfreq_max_position_embeddings=max_length,\n",
				"\t\tmask_max_position_embeddings=max_length,\n",
				"\t\tattn_mechanism=ed.AttentionMechanisms.VANILLA,\n",
				"\t),\n",
				"\tparam_dtype=dtype,\n",
				"\tdtype=dtype,\n",
				"\tprecision=lax.Precision(\"fastest\"),\n",
				")"
			]
		},
		{
			"cell_type": "markdown",
			"metadata": {},
			"source": [
				"This section initializes the model using `AutoEasyDeLModelForCausalLM` with custom `parameters`. The configuration options like `attention mechanism` and model precision allow you to optimize for speed or memory efficiency. You can also explore different attention mechanisms and configurations by checking out the documentation.\n",
				"\n",
				"-------------------------\n",
				"\n",
				"#### 4. Setting Up the Tokenizer"
			]
		},
		{
			"cell_type": "code",
			"execution_count": null,
			"metadata": {},
			"outputs": [],
			"source": [
				"config = model.config\n",
				"model_use_tie_word_embedding = config.tie_word_embeddings\n",
				"model_parameters = FrozenDict({\"params\": params})\n",
				"\n",
				"tokenizer = AutoTokenizer.from_pretrained(\n",
				"\tpretrained_model_name_or_path_tokenizer, trust_remote_code=True\n",
				")\n",
				"tokenizer.pad_token = (\n",
				"\ttokenizer.eos_token if tokenizer.pad_token is None else tokenizer.pad_token\n",
				")\n",
				"tokenizer.padding_side = \"right\""
			]
		},
		{
			"cell_type": "markdown",
			"metadata": {},
			"source": [
				"Here, we load the `tokenizer` using `transformers` and adjust the padding token if necessary. We also wrap the model parameters using `FrozenDict` for efficient handling during training. Tokenization is crucial in preparing your data for model input, and `EasyDeL` allows you to tweak this process—explore the documentation for more customizations!\n",
				"\n",
				"------\n",
				"\n",
				"#### 5. Preparing the Dataset"
			]
		},
		{
			"cell_type": "code",
			"execution_count": null,
			"metadata": {},
			"outputs": [],
			"source": [
				"train_dataset = datasets.concatenate_datasets(\n",
				"\t[\n",
				"\t\t# Your SFT Datasets come here\n",
				"\t]\n",
				")"
			]
		},
		{
			"cell_type": "markdown",
			"metadata": {},
			"source": [
				"\n",
				"In this step, we prepare the training dataset. You can load multiple `datasets` and combine them for fine-tuning, depending on your needs. `Data processing` can be adapted to your specific use case. Be sure to explore the documentation for different dataset handling techniques!\n",
				"\n",
				"----\n",
				"\n",
				"#### 6. Configuring Training Parameters"
			]
		},
		{
			"cell_type": "code",
			"execution_count": null,
			"metadata": {},
			"outputs": [],
			"source": [
				"train_arguments = ed.TrainingArguments(\n",
				"\tnum_train_epochs=3,\n",
				"\tlearning_rate=8e-5,\n",
				"\tlearning_rate_end=9e-6,\n",
				"\twarmup_steps=100,\n",
				"\toptimizer=ed.EasyDeLOptimizers.ADAMW,\n",
				"\tscheduler=ed.EasyDeLSchedulers.COSINE,\n",
				"\tweight_decay=0.02,\n",
				"\ttotal_batch_size=16,\n",
				"\tmax_sequence_length=max_length,\n",
				"\tgradient_checkpointing=ed.EasyDeLGradientCheckPointers.NONE, # change this if u go OOM\n",
				"\tsharding_array=sharding_axis_dims,\n",
				"\tgradient_accumulation_steps=1,\n",
				"\tinit_input_shape=input_shape,\n",
				"\tdtype=dtype,\n",
				"\tparam_dtype=dtype,\n",
				"\tmodel_name=new_repo_id.split(\"/\")[-1].split(\"-v\")[0],\n",
				"\ttraining_time_limit=\"7H\",\n",
				"\ttrack_memory=False,\n",
				")"
			]
		},
		{
			"cell_type": "markdown",
			"metadata": {},
			"source": [
				"We define the training configuration using `TrainingArguments`. This includes parameters like the `learning rate`, `number of training epochs`, `optimizer`, and `scheduler` type. Adjust these settings to find the optimal training regimen for your dataset and hardware. `EasyDeL` offers many more options for customizing training—check the documentation for more possibilities.\n",
				"\n",
				"----\n",
				"\n",
				"#### 7. Initializing the SFTTrainer"
			]
		},
		{
			"cell_type": "code",
			"execution_count": null,
			"metadata": {},
			"outputs": [],
			"source": [
				"trainer = ed.SFTTrainer(\n",
				"\targuments=train_arguments,\n",
				"\tmodel=model,\n",
				"\ttrain_dataset=train_dataset,\n",
				"\teval_dataset=None,\n",
				"\ttokenizer=tokenizer,\n",
				"\tdataset_text_field=None,\n",
				"\tformatting_func=lambda x: [\n",
				"\t\ttokenizer.apply_chat_template(x[\"conversation\"], tokenize=False)\n",
				"\t],\n",
				"\tpacking=True,\n",
				"\tnum_of_sequences=max_length,\n",
				"\tdataset_num_proc=128,\n",
				")"
			]
		},
		{
			"cell_type": "markdown",
			"metadata": {},
			"source": [
				"We set up the `SFTTrainer` with the `model`, `tokenizer`, and `training dataset`. The `SFTTrainer` allows for customization of how text inputs are formatted and packed for training. You can adjust the formatting_func or other parameters as needed. Many other training configurations are available, so be sure to explore the documentation for deeper customization.\n",
				"\n",
				"----\n",
				"\n",
				"#### 8. Training the Model and Uploading to Hugging Face"
			]
		},
		{
			"cell_type": "code",
			"execution_count": null,
			"metadata": {},
			"outputs": [],
			"source": [
				"output = trainer.train(model_parameters=model_parameters, state=None)\n",
				"api.create_repo(new_repo_id, private=True, exist_ok=True)\n",
				"file_path = \"/\".join(output.checkpoint_path.split(\"/\")[:-1])\n",
				"output.state.module.save_pretrained(\n",
				"\tfile_path, output.state.params[\"params\"], float_dtype=dtype\n",
				")\n",
				"api.upload_folder(\n",
				"\trepo_id=new_repo_id, folder_path=file_path, ignore_patterns=\"events.out.tfevents.*\"\n",
				")"
			]
		},
		{
			"cell_type": "markdown",
			"metadata": {},
			"source": [
				"In this final step, we train the model using the `SFTTrainer` and save the trained model to the specified path. We then create a private repository on the Hugging Face Hub and upload the trained model files. This allows you to easily share or deploy your fine-tuned model. For more details on managing checkpoints or integrating with other tools, refer to the documentation.\n",
				"\n",
				"----\n",
				"\n",
				"With these steps, you have fine-tuned a model using `EasyDeL's` `SFTTrainer`! Remember, this tutorial covers the basics, but the library offers many more options to explore. Dive into the documentation to fully customize your `fine-tuning` workflow and get the best results. Happy fine-tuning!"
			]
		}
	],
	"metadata": {
		"kernelspec": {
			"display_name": "base",
			"language": "python",
			"name": "python3"
		},
		"language_info": {
			"name": "python",
			"version": "3.12.4"
		}
	},
	"nbformat": 4,
	"nbformat_minor": 2
}
